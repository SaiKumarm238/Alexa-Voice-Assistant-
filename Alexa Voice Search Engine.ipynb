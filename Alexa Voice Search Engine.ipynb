{
 "cells": [
  {
   "cell_type": "code",
   "execution_count": 1,
   "metadata": {},
   "outputs": [],
   "source": [
    "# Importing the Reqired Pckages\n",
    "import speech_recognition as sr\n",
    "import pyttsx3 as ts\n",
    "import pywhatkit as wk\n",
    "import datetime\n",
    "import wikipedia\n",
    "import pyjokes"
   ]
  },
  {
   "cell_type": "code",
   "execution_count": 2,
   "metadata": {},
   "outputs": [],
   "source": [
    "listener = sr.Recognizer()  # init the Speach_rec\n",
    "\n",
    "engine = ts.init() # init python text to speech \n",
    "\n",
    "voices = engine.getProperty(\"voices\") # Changing the Voice in to Female \n",
    "engine.setProperty(\"voice\", voices[1].id) \n",
    "\n",
    "# Taking the Input From the users\n",
    "\n",
    "def talk(text):\n",
    "    engine.say(text)\n",
    "    engine.runAndWait()\n",
    "\n",
    "    \n",
    "# Recognize the Command from the user \n",
    "\n",
    "def take_Command():    \n",
    "    try:\n",
    "        with sr.Microphone() as source:\n",
    "            print(\"Start Listening...\")\n",
    "            voice = listener.listen(source)\n",
    "            command = listener.recognize_google(voice)\n",
    "            command = command.lower()\n",
    "            if \"alexa\" in command:\n",
    "                command =command.replace(\"alexa\", \" \")\n",
    "                print(command)\n",
    "            print(\"Stop Listening.....\")\n",
    "    except:\n",
    "        pass\n",
    "    return command\n",
    "\n",
    "\n",
    "# Giving diffeent command based on the Usage \n",
    "\n",
    "def run_Alexa():\n",
    "    command = take_Command()\n",
    "    print(command)\n",
    "    if \"play\" in command:\n",
    "        song = command.replace(\"play\", \" \")\n",
    "        talk(\"playing\" + song )\n",
    "        wk.playonyt(song)\n",
    "    elif \"time\" in command:\n",
    "        time = datetime.datetime.now().strftime(\"%I:%M %p\")\n",
    "        print(time)\n",
    "        talk(\"Current time is \" + time)\n",
    "    elif \"who is\" in command:\n",
    "        person = command.replace(\"who is\", \" \")\n",
    "        info = wikipedia.summary(person, 1)\n",
    "        print(info)\n",
    "        talk(info)\n",
    "    elif \"joke\" in command:\n",
    "        joke =pyjokes.get_joke()\n",
    "        print(joke)\n",
    "        talk(joke)\n",
    "    else:\n",
    "        talk(\"Please Say the Command again\")"
   ]
  },
  {
   "cell_type": "code",
   "execution_count": 5,
   "metadata": {},
   "outputs": [
    {
     "name": "stdout",
     "output_type": "stream",
     "text": [
      "Start Listening...\n",
      "hey  \n",
      "Stop Listening.....\n",
      "hey  \n",
      "Start Listening...\n",
      "Stop Listening.....\n",
      "what's the time\n",
      "08:52 PM\n",
      "Start Listening...\n",
      "Stop Listening.....\n",
      "play song in youtube\n",
      "Start Listening...\n"
     ]
    },
    {
     "ename": "UnboundLocalError",
     "evalue": "local variable 'command' referenced before assignment",
     "output_type": "error",
     "traceback": [
      "\u001b[1;31m---------------------------------------------------------------------------\u001b[0m",
      "\u001b[1;31mUnboundLocalError\u001b[0m                         Traceback (most recent call last)",
      "\u001b[1;32m<ipython-input-5-a0b8d2fdddf9>\u001b[0m in \u001b[0;36m<module>\u001b[1;34m\u001b[0m\n\u001b[0;32m      2\u001b[0m \u001b[1;33m\u001b[0m\u001b[0m\n\u001b[0;32m      3\u001b[0m \u001b[1;32mwhile\u001b[0m \u001b[1;32mTrue\u001b[0m\u001b[1;33m:\u001b[0m\u001b[1;33m\u001b[0m\u001b[1;33m\u001b[0m\u001b[0m\n\u001b[1;32m----> 4\u001b[1;33m     \u001b[0mrun_Alexa\u001b[0m\u001b[1;33m(\u001b[0m\u001b[1;33m)\u001b[0m\u001b[1;33m\u001b[0m\u001b[1;33m\u001b[0m\u001b[0m\n\u001b[0m",
      "\u001b[1;32m<ipython-input-2-3e13d7c13aff>\u001b[0m in \u001b[0;36mrun_Alexa\u001b[1;34m()\u001b[0m\n\u001b[0;32m     34\u001b[0m \u001b[1;33m\u001b[0m\u001b[0m\n\u001b[0;32m     35\u001b[0m \u001b[1;32mdef\u001b[0m \u001b[0mrun_Alexa\u001b[0m\u001b[1;33m(\u001b[0m\u001b[1;33m)\u001b[0m\u001b[1;33m:\u001b[0m\u001b[1;33m\u001b[0m\u001b[1;33m\u001b[0m\u001b[0m\n\u001b[1;32m---> 36\u001b[1;33m     \u001b[0mcommand\u001b[0m \u001b[1;33m=\u001b[0m \u001b[0mtake_Command\u001b[0m\u001b[1;33m(\u001b[0m\u001b[1;33m)\u001b[0m\u001b[1;33m\u001b[0m\u001b[1;33m\u001b[0m\u001b[0m\n\u001b[0m\u001b[0;32m     37\u001b[0m     \u001b[0mprint\u001b[0m\u001b[1;33m(\u001b[0m\u001b[0mcommand\u001b[0m\u001b[1;33m)\u001b[0m\u001b[1;33m\u001b[0m\u001b[1;33m\u001b[0m\u001b[0m\n\u001b[0;32m     38\u001b[0m     \u001b[1;32mif\u001b[0m \u001b[1;34m\"play\"\u001b[0m \u001b[1;32min\u001b[0m \u001b[0mcommand\u001b[0m\u001b[1;33m:\u001b[0m\u001b[1;33m\u001b[0m\u001b[1;33m\u001b[0m\u001b[0m\n",
      "\u001b[1;32m<ipython-input-2-3e13d7c13aff>\u001b[0m in \u001b[0;36mtake_Command\u001b[1;34m()\u001b[0m\n\u001b[0;32m     28\u001b[0m     \u001b[1;32mexcept\u001b[0m\u001b[1;33m:\u001b[0m\u001b[1;33m\u001b[0m\u001b[1;33m\u001b[0m\u001b[0m\n\u001b[0;32m     29\u001b[0m         \u001b[1;32mpass\u001b[0m\u001b[1;33m\u001b[0m\u001b[1;33m\u001b[0m\u001b[0m\n\u001b[1;32m---> 30\u001b[1;33m     \u001b[1;32mreturn\u001b[0m \u001b[0mcommand\u001b[0m\u001b[1;33m\u001b[0m\u001b[1;33m\u001b[0m\u001b[0m\n\u001b[0m\u001b[0;32m     31\u001b[0m \u001b[1;33m\u001b[0m\u001b[0m\n\u001b[0;32m     32\u001b[0m \u001b[1;33m\u001b[0m\u001b[0m\n",
      "\u001b[1;31mUnboundLocalError\u001b[0m: local variable 'command' referenced before assignment"
     ]
    }
   ],
   "source": [
    "#For Running continuously\n",
    "\n",
    "while True:\n",
    "    run_Alexa()"
   ]
  },
  {
   "cell_type": "code",
   "execution_count": null,
   "metadata": {},
   "outputs": [],
   "source": []
  }
 ],
 "metadata": {
  "kernelspec": {
   "display_name": "Python 3",
   "language": "python",
   "name": "python3"
  },
  "language_info": {
   "codemirror_mode": {
    "name": "ipython",
    "version": 3
   },
   "file_extension": ".py",
   "mimetype": "text/x-python",
   "name": "python",
   "nbconvert_exporter": "python",
   "pygments_lexer": "ipython3",
   "version": "3.8.3"
  }
 },
 "nbformat": 4,
 "nbformat_minor": 4
}
